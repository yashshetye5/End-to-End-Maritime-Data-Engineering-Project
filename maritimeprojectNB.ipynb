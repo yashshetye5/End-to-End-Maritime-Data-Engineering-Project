{
 "cells": [
  {
   "cell_type": "code",
   "execution_count": 0,
   "metadata": {
    "application/vnd.databricks.v1+cell": {
     "cellMetadata": {
      "byteLimit": 2048000,
      "rowLimit": 10000
     },
     "inputWidgets": {},
     "nuid": "51e104ff-3d38-4fdc-a902-a07e5bf9d9fd",
     "showTitle": false,
     "title": ""
    }
   },
   "outputs": [
    {
     "output_type": "execute_result",
     "data": {
      "text/html": [
       "\n",
       "            <div>\n",
       "                <p><b>SparkSession - hive</b></p>\n",
       "                \n",
       "        <div>\n",
       "            <p><b>SparkContext</b></p>\n",
       "\n",
       "            <p><a href=\"/?o=8339001567487745#setting/sparkui/0315-093438-gggage0q/driver-2957778855097272556\">Spark UI</a></p>\n",
       "\n",
       "            <dl>\n",
       "              <dt>Version</dt>\n",
       "                <dd><code>v3.5.0</code></dd>\n",
       "              <dt>Master</dt>\n",
       "                <dd><code>local[*, 4]</code></dd>\n",
       "              <dt>AppName</dt>\n",
       "                <dd><code>Databricks Shell</code></dd>\n",
       "            </dl>\n",
       "        </div>\n",
       "        \n",
       "            </div>\n",
       "        "
      ],
      "text/plain": [
       "<pyspark.sql.session.SparkSession at 0x7f4d40516920>"
      ]
     },
     "execution_count": 216,
     "metadata": {},
     "output_type": "execute_result"
    }
   ],
   "source": [
    "spark"
   ]
  },
  {
   "cell_type": "code",
   "execution_count": 0,
   "metadata": {
    "application/vnd.databricks.v1+cell": {
     "cellMetadata": {
      "byteLimit": 2048000,
      "rowLimit": 10000
     },
     "inputWidgets": {},
     "nuid": "25de1dd0-436e-4741-a94f-369e0ebcb64b",
     "showTitle": false,
     "title": ""
    }
   },
   "outputs": [],
   "source": [
    "from pyspark.sql.functions import concat, col,expr, udf, hour , to_timestamp, row_number, when, regexp_replace\n",
    "from pyspark.sql.types import StringType, IntegerType\n",
    "from pyspark.sql import Window\n",
    "\n"
   ]
  },
  {
   "cell_type": "code",
   "execution_count": 0,
   "metadata": {
    "application/vnd.databricks.v1+cell": {
     "cellMetadata": {
      "byteLimit": 2048000,
      "rowLimit": 10000
     },
     "inputWidgets": {},
     "nuid": "85b32e9e-76bd-49f4-8dca-4068e4f6f153",
     "showTitle": false,
     "title": ""
    }
   },
   "outputs": [],
   "source": [
    "df = spark.read.csv(\"/mnt/mari-time/landing/2024/03/16/\",inferSchema=True, header=True)"
   ]
  },
  {
   "cell_type": "code",
   "execution_count": 0,
   "metadata": {
    "application/vnd.databricks.v1+cell": {
     "cellMetadata": {
      "byteLimit": 2048000,
      "rowLimit": 10000
     },
     "inputWidgets": {},
     "nuid": "7f0b8f9b-28e5-4027-af3a-3b5687e25f4e",
     "showTitle": false,
     "title": ""
    }
   },
   "outputs": [],
   "source": [
    "df = df.withColumn(\"Name\",regexp_replace('Name', 'IMO', df.IMO)) "
   ]
  },
  {
   "cell_type": "code",
   "execution_count": 0,
   "metadata": {
    "application/vnd.databricks.v1+cell": {
     "cellMetadata": {
      "byteLimit": 2048000,
      "rowLimit": 10000
     },
     "inputWidgets": {},
     "nuid": "6adf6a62-b70d-4368-8065-670c5db2ec68",
     "showTitle": false,
     "title": ""
    }
   },
   "outputs": [],
   "source": [
    "df = df.fillna(value='Undefined',subset=[\"Cargo type\"])"
   ]
  },
  {
   "cell_type": "code",
   "execution_count": 0,
   "metadata": {
    "application/vnd.databricks.v1+cell": {
     "cellMetadata": {
      "byteLimit": 2048000,
      "rowLimit": 10000
     },
     "inputWidgets": {},
     "nuid": "f3281449-cd63-4404-990c-63fb4fa373e4",
     "showTitle": false,
     "title": ""
    }
   },
   "outputs": [],
   "source": [
    "df = df.withColumnRenamed(\"# Timestamp\", \"Timestamp\")"
   ]
  },
  {
   "cell_type": "code",
   "execution_count": 0,
   "metadata": {
    "application/vnd.databricks.v1+cell": {
     "cellMetadata": {
      "byteLimit": 2048000,
      "rowLimit": 10000
     },
     "inputWidgets": {},
     "nuid": "5b3d5cfa-7760-438e-ab6b-131653defb4d",
     "showTitle": false,
     "title": ""
    }
   },
   "outputs": [],
   "source": [
    "df = df.dropDuplicates()"
   ]
  },
  {
   "cell_type": "code",
   "execution_count": 0,
   "metadata": {
    "application/vnd.databricks.v1+cell": {
     "cellMetadata": {
      "byteLimit": 2048000,
      "rowLimit": 10000
     },
     "inputWidgets": {},
     "nuid": "68d440c9-c2cc-4853-9b3a-d1cdccf42004",
     "showTitle": false,
     "title": ""
    }
   },
   "outputs": [],
   "source": [
    "df = df.withColumn('grid point', concat(expr(\"'('\"), col('Latitude'), expr(\"','\"), col('Longitude'), expr(\"')'\")))"
   ]
  },
  {
   "cell_type": "code",
   "execution_count": 0,
   "metadata": {
    "application/vnd.databricks.v1+cell": {
     "cellMetadata": {
      "byteLimit": 2048000,
      "rowLimit": 10000
     },
     "inputWidgets": {},
     "nuid": "e4ed7c0c-a061-4c46-bb8e-1607a9c43901",
     "showTitle": false,
     "title": ""
    }
   },
   "outputs": [],
   "source": [
    "\n",
    "df = df.withColumn(\"Directions\",when((df.Heading <= 359) & (df.Heading > 270), 'Toward ')\\\n",
    "    .when((df.Heading < 90) & (df.Heading > 0), 'Toward North East')\\\n",
    "    .when((df.Heading < 180) & (df.Heading > 90), 'Toward North East')\\\n",
    "    .when((df.Heading < 270) & (df.Heading > 180), 'Toward North East')\\\n",
    "    .when((df.Heading == 0),'Towards North')\\\n",
    "    .when((df.Heading == 90),'Towards East')\\\n",
    "    .when((df.Heading == 180),'Towards South')\\\n",
    "    .when((df.Heading == 270),'Towards West')\\\n",
    "    .otherwise('other'))"
   ]
  },
  {
   "cell_type": "code",
   "execution_count": 0,
   "metadata": {
    "application/vnd.databricks.v1+cell": {
     "cellMetadata": {
      "byteLimit": 2048000,
      "rowLimit": 10000
     },
     "inputWidgets": {},
     "nuid": "9f543870-ce62-48af-bd2a-b2e0f967b5b2",
     "showTitle": false,
     "title": ""
    }
   },
   "outputs": [],
   "source": [
    "df = df.withColumn(\"hour\", hour(to_timestamp(\"Timestamp\", \"dd/MM/yyyy HH:mm:ss\"))) "
   ]
  },
  {
   "cell_type": "code",
   "execution_count": 0,
   "metadata": {
    "application/vnd.databricks.v1+cell": {
     "cellMetadata": {
      "byteLimit": 2048000,
      "rowLimit": 10000
     },
     "inputWidgets": {},
     "nuid": "565d5953-3ba2-474e-b6a7-54d175ce76bc",
     "showTitle": false,
     "title": ""
    }
   },
   "outputs": [],
   "source": [
    "windowSpec = Window.orderBy(df['Timestamp']).partitionBy(df['hour'])"
   ]
  },
  {
   "cell_type": "code",
   "execution_count": 0,
   "metadata": {
    "application/vnd.databricks.v1+cell": {
     "cellMetadata": {
      "byteLimit": 2048000,
      "rowLimit": 10000
     },
     "inputWidgets": {},
     "nuid": "62b75f65-8ace-450c-af3e-098e5ae598a7",
     "showTitle": false,
     "title": ""
    }
   },
   "outputs": [],
   "source": [
    "df = df.withColumn(\"row_number\",row_number().over(windowSpec)).orderBy(df['Timestamp'])"
   ]
  },
  {
   "cell_type": "code",
   "execution_count": 0,
   "metadata": {
    "application/vnd.databricks.v1+cell": {
     "cellMetadata": {
      "byteLimit": 2048000,
      "rowLimit": 10000
     },
     "inputWidgets": {},
     "nuid": "fffa76e6-4ae7-437d-9739-56c36a0ce861",
     "showTitle": false,
     "title": ""
    }
   },
   "outputs": [],
   "source": [
    "spark.conf.set(\n",
    "  \"fs.azure.account.key.maritimeprojectstgacc.blob.core.windows.net\",\n",
    "  \"UH2VH39dlYiN1yvSY0oSJmJcc0QSHZdAVa8Spt1Ba6zJq8xLE1vkTpiEBYDbw0xb6vR8+mbq57PG+AStqUF9Gw==\"\n",
    ")"
   ]
  },
  {
   "cell_type": "code",
   "execution_count": 0,
   "metadata": {
    "application/vnd.databricks.v1+cell": {
     "cellMetadata": {
      "byteLimit": 2048000,
      "rowLimit": 10000
     },
     "inputWidgets": {},
     "nuid": "8146d92c-cc02-40bf-af96-5da43a8b0d41",
     "showTitle": false,
     "title": ""
    }
   },
   "outputs": [
    {
     "output_type": "execute_result",
     "data": {
      "text/plain": [
       "['Timestamp',\n",
       " 'Type of mobile',\n",
       " 'MMSI',\n",
       " 'Latitude',\n",
       " 'Longitude',\n",
       " 'Navigational status',\n",
       " 'ROT',\n",
       " 'SOG',\n",
       " 'COG',\n",
       " 'Heading',\n",
       " 'IMO',\n",
       " 'Callsign',\n",
       " 'Name',\n",
       " 'Ship type',\n",
       " 'Cargo type',\n",
       " 'Width',\n",
       " 'Length',\n",
       " 'Type of position fixing device',\n",
       " 'Draught',\n",
       " 'Destination',\n",
       " 'ETA',\n",
       " 'Data source type',\n",
       " 'A',\n",
       " 'B',\n",
       " 'C',\n",
       " 'D',\n",
       " 'grid point',\n",
       " 'Directions',\n",
       " 'hour',\n",
       " 'row_number']"
      ]
     },
     "execution_count": 229,
     "metadata": {},
     "output_type": "execute_result"
    }
   ],
   "source": [
    "df.columns"
   ]
  },
  {
   "cell_type": "code",
   "execution_count": 0,
   "metadata": {
    "application/vnd.databricks.v1+cell": {
     "cellMetadata": {
      "byteLimit": 2048000,
      "rowLimit": 10000
     },
     "inputWidgets": {},
     "nuid": "c0b44c4c-c743-4b32-ba1c-cb7fb9e01093",
     "showTitle": false,
     "title": ""
    }
   },
   "outputs": [],
   "source": [
    "df.coalesce(1).write.format(\"csv\") \\\n",
    "  .option(\"header\", \"true\") \\\n",
    "  .mode(\"overwrite\")\\\n",
    "   .save(\"wasbs://martimeproject@maritimeprojectstgacc.blob.core.windows.net/transformed_data/staging\")"
   ]
  },
  {
   "cell_type": "code",
   "execution_count": 0,
   "metadata": {
    "application/vnd.databricks.v1+cell": {
     "cellMetadata": {
      "byteLimit": 2048000,
      "rowLimit": 10000
     },
     "inputWidgets": {},
     "nuid": "108daa7c-9ae6-4d07-a0d8-1c83019cbbdb",
     "showTitle": false,
     "title": ""
    }
   },
   "outputs": [],
   "source": [
    "df.select(col('MMSI') == 219004616).write.format(\"csv\") \\\n",
    "  .option(\"header\", \"true\") \\\n",
    "  .mode(\"overwrite\")\\\n",
    "   .save(\"wasbs://martimeproject@maritimeprojectstgacc.blob.core.windows.net/transformed_data/please_work\")"
   ]
  }
 ],
 "metadata": {
  "application/vnd.databricks.v1+notebook": {
   "dashboards": [],
   "language": "python",
   "notebookMetadata": {
    "mostRecentlyExecutedCommandWithImplicitDF": {
     "commandId": 2552701077100122,
     "dataframes": [
      "_sqldf"
     ]
    },
    "pythonIndentUnit": 4
   },
   "notebookName": "maritimeprojectNB",
   "widgets": {}
  }
 },
 "nbformat": 4,
 "nbformat_minor": 0
}
